{
 "cells": [
  {
   "cell_type": "code",
   "execution_count": 89,
   "id": "0fd49aae-4763-4e43-bdae-97d27e182374",
   "metadata": {},
   "outputs": [],
   "source": [
    "from keras.datasets import mnist"
   ]
  },
  {
   "cell_type": "markdown",
   "id": "a85d56da-784f-40cd-a131-a1dfef71f8f0",
   "metadata": {},
   "source": [
    "Loading the data"
   ]
  },
  {
   "cell_type": "code",
   "execution_count": 90,
   "id": "8343e830-e09b-42c6-b4d9-9e9c883480b9",
   "metadata": {},
   "outputs": [],
   "source": [
    "(x_train,y_train),(x_test,y_test) = mnist.load_data()"
   ]
  },
  {
   "cell_type": "code",
   "execution_count": 91,
   "id": "3f5e10f8-f42f-447d-a1dc-f0a6977bd005",
   "metadata": {},
   "outputs": [
    {
     "data": {
      "text/plain": [
       "((60000, 28, 28), (10000, 28, 28))"
      ]
     },
     "execution_count": 91,
     "metadata": {},
     "output_type": "execute_result"
    }
   ],
   "source": [
    "x_train.shape,x_test.shape"
   ]
  },
  {
   "cell_type": "markdown",
   "id": "d628febf-66c5-45fb-8ad6-17c8935863dc",
   "metadata": {},
   "source": [
    "Reshaping input features x_train & x_test because CNN takes 4D data"
   ]
  },
  {
   "cell_type": "code",
   "execution_count": 92,
   "id": "4b5448d7-e102-43ee-9f94-970ea8f0592c",
   "metadata": {},
   "outputs": [],
   "source": [
    "x_train = x_train.reshape(60000,28,28,1)\n",
    "x_test = x_test.reshape(10000,28,28,1)"
   ]
  },
  {
   "cell_type": "markdown",
   "id": "9e88fce7-63ca-4689-a981-da97d6764436",
   "metadata": {},
   "source": [
    "Normalizing the input features x_train & x_test"
   ]
  },
  {
   "cell_type": "code",
   "execution_count": 93,
   "id": "0f8bbf68-11ec-4208-99a5-09d883e4e701",
   "metadata": {},
   "outputs": [],
   "source": [
    "x_train = x_train/255\n",
    "x_test = x_test/255"
   ]
  },
  {
   "cell_type": "markdown",
   "id": "39cda6d9-3773-414f-884d-b6edb11481f4",
   "metadata": {},
   "source": [
    "Changing target values/labels to categorical because of CNN"
   ]
  },
  {
   "cell_type": "markdown",
   "id": "121ac7f7-f8a9-407c-a9c6-97a586f034f9",
   "metadata": {},
   "source": [
    "from keras.utils import to_categorical\n",
    "y_train = to_categorical(y_train)\n",
    "y_test = to_categorical(y_test)\n",
    "If target values are changed to categorical for ONE HOT ENCODING then the loss function should be categorical_crossentropy"
   ]
  },
  {
   "cell_type": "code",
   "execution_count": 95,
   "id": "063732f6-f97d-44a3-a02e-c323f6b6daf7",
   "metadata": {},
   "outputs": [
    {
     "data": {
      "text/plain": [
       "array([5, 0, 4, ..., 5, 6, 8], dtype=uint8)"
      ]
     },
     "execution_count": 95,
     "metadata": {},
     "output_type": "execute_result"
    }
   ],
   "source": [
    "# One hot encoding\n",
    "y_train"
   ]
  },
  {
   "cell_type": "code",
   "execution_count": 96,
   "id": "4c261289-f88b-4a0d-9a5f-209069e5f276",
   "metadata": {},
   "outputs": [],
   "source": [
    "from keras.layers import Conv2D,MaxPool2D,Flatten,Dense\n",
    "from keras import Sequential"
   ]
  },
  {
   "cell_type": "code",
   "execution_count": 97,
   "id": "39b9209a-3c0c-48da-b260-3ddc7f42e7fc",
   "metadata": {},
   "outputs": [],
   "source": [
    "model = Sequential()"
   ]
  },
  {
   "cell_type": "code",
   "execution_count": 98,
   "id": "59a08866-087d-4dcf-8c2d-881bded3a101",
   "metadata": {},
   "outputs": [],
   "source": [
    "model.add(Conv2D(32,(3,3),activation=\"relu\",input_shape=(28,28,1)))\n",
    "model.add(MaxPool2D((2,2)))\n",
    "model.add(Conv2D(64,(3,3),activation=\"relu\"))\n",
    "model.add(MaxPool2D((2,2)))\n",
    "model.add(Conv2D(64,(3,3),activation=\"relu\"))\n",
    "model.add(Flatten())\n",
    "model.add(Dense(64,activation=\"relu\"))\n",
    "model.add(Dense(10,activation=\"softmax\"))"
   ]
  },
  {
   "cell_type": "code",
   "execution_count": 99,
   "id": "31d987ee-f6a0-4250-9b03-53366948c0af",
   "metadata": {},
   "outputs": [
    {
     "name": "stdout",
     "output_type": "stream",
     "text": [
      "Model: \"sequential_2\"\n",
      "_________________________________________________________________\n",
      " Layer (type)                Output Shape              Param #   \n",
      "=================================================================\n",
      " conv2d_3 (Conv2D)           (None, 26, 26, 32)        320       \n",
      "                                                                 \n",
      " max_pooling2d_2 (MaxPoolin  (None, 13, 13, 32)        0         \n",
      " g2D)                                                            \n",
      "                                                                 \n",
      " conv2d_4 (Conv2D)           (None, 11, 11, 64)        18496     \n",
      "                                                                 \n",
      " max_pooling2d_3 (MaxPoolin  (None, 5, 5, 64)          0         \n",
      " g2D)                                                            \n",
      "                                                                 \n",
      " conv2d_5 (Conv2D)           (None, 3, 3, 64)          36928     \n",
      "                                                                 \n",
      " flatten_1 (Flatten)         (None, 576)               0         \n",
      "                                                                 \n",
      " dense_2 (Dense)             (None, 64)                36928     \n",
      "                                                                 \n",
      " dense_3 (Dense)             (None, 10)                650       \n",
      "                                                                 \n",
      "=================================================================\n",
      "Total params: 93322 (364.54 KB)\n",
      "Trainable params: 93322 (364.54 KB)\n",
      "Non-trainable params: 0 (0.00 Byte)\n",
      "_________________________________________________________________\n"
     ]
    }
   ],
   "source": [
    "model.summary()"
   ]
  },
  {
   "cell_type": "code",
   "execution_count": 100,
   "id": "3aff11e5-1d48-49e5-9e19-e8918d231ed2",
   "metadata": {},
   "outputs": [],
   "source": [
    "model.compile(optimizer=\"rmsprop\",loss=\"sparse_categorical_crossentropy\",metrics=[\"accuracy\"])"
   ]
  },
  {
   "cell_type": "code",
   "execution_count": 101,
   "id": "4529dcc0-f78c-42b1-b4d3-7a9564eeb443",
   "metadata": {
    "scrolled": true
   },
   "outputs": [
    {
     "name": "stdout",
     "output_type": "stream",
     "text": [
      "Epoch 1/12\n",
      "938/938 [==============================] - 40s 41ms/step - loss: 0.1858 - accuracy: 0.9430 - val_loss: 0.1028 - val_accuracy: 0.9680\n",
      "Epoch 2/12\n",
      "938/938 [==============================] - 40s 42ms/step - loss: 0.0473 - accuracy: 0.9850 - val_loss: 0.0471 - val_accuracy: 0.9853\n",
      "Epoch 3/12\n",
      "938/938 [==============================] - 40s 43ms/step - loss: 0.0326 - accuracy: 0.9899 - val_loss: 0.0354 - val_accuracy: 0.9885\n",
      "Epoch 4/12\n",
      "938/938 [==============================] - 40s 43ms/step - loss: 0.0243 - accuracy: 0.9923 - val_loss: 0.0315 - val_accuracy: 0.9900\n",
      "Epoch 5/12\n",
      "938/938 [==============================] - 40s 43ms/step - loss: 0.0190 - accuracy: 0.9937 - val_loss: 0.0284 - val_accuracy: 0.9912\n",
      "Epoch 6/12\n",
      "938/938 [==============================] - 40s 42ms/step - loss: 0.0143 - accuracy: 0.9957 - val_loss: 0.0290 - val_accuracy: 0.9922\n",
      "Epoch 7/12\n",
      "938/938 [==============================] - 38s 41ms/step - loss: 0.0123 - accuracy: 0.9964 - val_loss: 0.0307 - val_accuracy: 0.9914\n",
      "Epoch 8/12\n",
      "938/938 [==============================] - 42s 45ms/step - loss: 0.0102 - accuracy: 0.9969 - val_loss: 0.0292 - val_accuracy: 0.9920\n",
      "Epoch 9/12\n",
      "938/938 [==============================] - 42s 44ms/step - loss: 0.0078 - accuracy: 0.9975 - val_loss: 0.0436 - val_accuracy: 0.9887\n",
      "Epoch 10/12\n",
      "938/938 [==============================] - 39s 41ms/step - loss: 0.0059 - accuracy: 0.9982 - val_loss: 0.0372 - val_accuracy: 0.9923\n",
      "Epoch 11/12\n",
      "938/938 [==============================] - 39s 42ms/step - loss: 0.0067 - accuracy: 0.9980 - val_loss: 0.0534 - val_accuracy: 0.9899\n",
      "Epoch 12/12\n",
      "938/938 [==============================] - 41s 43ms/step - loss: 0.0049 - accuracy: 0.9986 - val_loss: 0.0344 - val_accuracy: 0.9926\n"
     ]
    },
    {
     "data": {
      "text/plain": [
       "<keras.src.callbacks.History at 0x1c70ab4a890>"
      ]
     },
     "execution_count": 101,
     "metadata": {},
     "output_type": "execute_result"
    }
   ],
   "source": [
    "model.fit(x_train,y_train,validation_data=(x_test,y_test),epochs=12,batch_size=64)"
   ]
  },
  {
   "cell_type": "code",
   "execution_count": 102,
   "id": "5aecb106-4073-4df4-a8dc-035acb348d65",
   "metadata": {},
   "outputs": [
    {
     "name": "stdout",
     "output_type": "stream",
     "text": [
      "313/313 [==============================] - 4s 12ms/step - loss: 0.0344 - accuracy: 0.9926\n"
     ]
    },
    {
     "data": {
      "text/plain": [
       "[0.03442252054810524, 0.9926000237464905]"
      ]
     },
     "execution_count": 102,
     "metadata": {},
     "output_type": "execute_result"
    }
   ],
   "source": [
    "model.evaluate(x_test,y_test)"
   ]
  },
  {
   "cell_type": "code",
   "execution_count": 103,
   "id": "2119ad0c-7961-4900-ae83-045edd0c7044",
   "metadata": {},
   "outputs": [
    {
     "name": "stdout",
     "output_type": "stream",
     "text": [
      "313/313 [==============================] - 4s 11ms/step\n"
     ]
    }
   ],
   "source": [
    "y_pred = model.predict(x_test)"
   ]
  },
  {
   "cell_type": "code",
   "execution_count": 104,
   "id": "b2528f8a-63a2-478e-917b-904bc3b2526a",
   "metadata": {},
   "outputs": [
    {
     "data": {
      "text/plain": [
       "7"
      ]
     },
     "execution_count": 104,
     "metadata": {},
     "output_type": "execute_result"
    }
   ],
   "source": [
    "import numpy as np\n",
    "np.argmax(y_pred)"
   ]
  },
  {
   "cell_type": "code",
   "execution_count": 105,
   "id": "c06a8379-d2c5-4fc1-9993-c4f75e0a5bc7",
   "metadata": {},
   "outputs": [],
   "source": [
    "import cv2"
   ]
  },
  {
   "cell_type": "code",
   "execution_count": 106,
   "id": "2c18ac76-35c7-4260-bab3-daa0d735d856",
   "metadata": {},
   "outputs": [],
   "source": [
    "mat = cv2.imread(\"rough.png\")"
   ]
  },
  {
   "cell_type": "code",
   "execution_count": 107,
   "id": "d4e61fa1-fde8-4f22-8b57-2dd613953e9a",
   "metadata": {},
   "outputs": [
    {
     "data": {
      "text/plain": [
       "(28, 28, 3)"
      ]
     },
     "execution_count": 107,
     "metadata": {},
     "output_type": "execute_result"
    }
   ],
   "source": [
    "mat.shape"
   ]
  },
  {
   "cell_type": "code",
   "execution_count": 108,
   "id": "9a9c1e05-8fba-4be9-ae63-97e6c005ed01",
   "metadata": {},
   "outputs": [],
   "source": [
    "import matplotlib.pyplot as plt"
   ]
  },
  {
   "cell_type": "code",
   "execution_count": 109,
   "id": "8fe75b81-37bb-4243-b898-e7672e8702d1",
   "metadata": {},
   "outputs": [
    {
     "data": {
      "text/plain": [
       "<matplotlib.image.AxesImage at 0x1c70a59a790>"
      ]
     },
     "execution_count": 109,
     "metadata": {},
     "output_type": "execute_result"
    },
    {
     "data": {
      "image/png": "[encoded data removed]",
      "text/plain": [
       "<Figure size 640x480 with 1 Axes>"
      ]
     },
     "metadata": {},
     "output_type": "display_data"
    }
   ],
   "source": [
    "plt.imshow(mat)"
   ]
  },
  {
   "cell_type": "code",
   "execution_count": 110,
   "id": "baf27298-e529-4321-abfa-d2972fe236d0",
   "metadata": {},
   "outputs": [],
   "source": [
    "test = mat[:,:,:1]"
   ]
  },
  {
   "cell_type": "code",
   "execution_count": 111,
   "id": "7683b184-fbb9-4889-ba74-189007ff5ff7",
   "metadata": {},
   "outputs": [
    {
     "data": {
      "text/plain": [
       "(28, 28, 1)"
      ]
     },
     "execution_count": 111,
     "metadata": {},
     "output_type": "execute_result"
    }
   ],
   "source": [
    "test.shape"
   ]
  },
  {
   "cell_type": "code",
   "execution_count": 112,
   "id": "939d1ed8-e0a8-49eb-a2b2-37f83a0ed60f",
   "metadata": {},
   "outputs": [
    {
     "data": {
      "text/plain": [
       "<matplotlib.image.AxesImage at 0x1c70b5de2d0>"
      ]
     },
     "execution_count": 112,
     "metadata": {},
     "output_type": "execute_result"
    },
    {
     "data": {
      "image/png": "[encoded data removed]",
      "text/plain": [
       "<Figure size 640x480 with 1 Axes>"
      ]
     },
     "metadata": {},
     "output_type": "display_data"
    }
   ],
   "source": [
    "plt.imshow(test)"
   ]
  },
  {
   "cell_type": "code",
   "execution_count": 113,
   "id": "e66a1896-89d9-4ac8-bcb1-3e625ea2e5dc",
   "metadata": {},
   "outputs": [],
   "source": [
    "test = np.invert(test)"
   ]
  },
  {
   "cell_type": "code",
   "execution_count": 114,
   "id": "74bc6552-bdc9-4876-8fd8-23c425041ce8",
   "metadata": {},
   "outputs": [
    {
     "data": {
      "text/plain": [
       "<matplotlib.image.AxesImage at 0x1c70ae04810>"
      ]
     },
     "execution_count": 114,
     "metadata": {},
     "output_type": "execute_result"
    },
    {
     "data": {
      "image/png": "[encoded data removed]",
      "text/plain": [
       "<Figure size 640x480 with 1 Axes>"
      ]
     },
     "metadata": {},
     "output_type": "display_data"
    }
   ],
   "source": [
    "plt.imshow(test)"
   ]
  },
  {
   "cell_type": "code",
   "execution_count": 115,
   "id": "ca6e85a3-e164-400a-b280-c7937368dfd6",
   "metadata": {},
   "outputs": [],
   "source": [
    "ar = np.array([test])"
   ]
  },
  {
   "cell_type": "code",
   "execution_count": 116,
   "id": "e6fac1a6-f4fe-4195-9a13-546d9bf7e43e",
   "metadata": {},
   "outputs": [
    {
     "data": {
      "text/plain": [
       "(1, 28, 28, 1)"
      ]
     },
     "execution_count": 116,
     "metadata": {},
     "output_type": "execute_result"
    }
   ],
   "source": [
    "ar.shape"
   ]
  },
  {
   "cell_type": "code",
   "execution_count": 117,
   "id": "ea56a7fd-f12e-4796-8599-1ef8c80f97ad",
   "metadata": {},
   "outputs": [
    {
     "name": "stdout",
     "output_type": "stream",
     "text": [
      "1/1 [==============================] - 0s 156ms/step\n"
     ]
    }
   ],
   "source": [
    "pred = model.predict(ar)"
   ]
  },
  {
   "cell_type": "code",
   "execution_count": 118,
   "id": "fee86afe-38da-4e55-83fb-e2b9c08d0b62",
   "metadata": {},
   "outputs": [
    {
     "data": {
      "text/plain": [
       "2"
      ]
     },
     "execution_count": 118,
     "metadata": {},
     "output_type": "execute_result"
    }
   ],
   "source": [
    "np.argmax(pred)"
   ]
  }
 ],
 "metadata": {
  "kernelspec": {
   "display_name": "Python 3 (ipykernel)",
   "language": "python",
   "name": "python3"
  },
  "language_info": {
   "codemirror_mode": {
    "name": "ipython",
    "version": 3
   },
   "file_extension": ".py",
   "mimetype": "text/x-python",
   "name": "python",
   "nbconvert_exporter": "python",
   "pygments_lexer": "ipython3",
   "version": "3.11.4"
  }
 },
 "nbformat": 4,
 "nbformat_minor": 5
}
